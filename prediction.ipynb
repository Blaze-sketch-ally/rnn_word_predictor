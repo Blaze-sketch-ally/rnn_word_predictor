{
 "cells": [
  {
   "cell_type": "code",
   "execution_count": 1,
   "id": "d80f930f",
   "metadata": {},
   "outputs": [],
   "source": [
    "#Step 1: Import Libraries and Load the Model\n",
    "import numpy as np\n",
    "import tensorflow as tf\n",
    "from tensorflow.keras.datasets import imdb\n",
    "from tensorflow.keras.models import load_model\n",
    "from tensorflow.keras.preprocessing import sequence"
   ]
  },
  {
   "cell_type": "code",
   "execution_count": 2,
   "id": "de8e63f1",
   "metadata": {},
   "outputs": [],
   "source": [
    "#Load the imdb dataset word index\n",
    "word_index = imdb.get_word_index()\n",
    "reverse_word_index = {value: key for (key, value) in word_index.items()}"
   ]
  },
  {
   "cell_type": "code",
   "execution_count": 3,
   "id": "b5eb1f83",
   "metadata": {},
   "outputs": [
    {
     "name": "stderr",
     "output_type": "stream",
     "text": [
      "WARNING:absl:Compiled the loaded model, but the compiled metrics have yet to be built. `model.compile_metrics` will be empty until you train or evaluate the model.\n"
     ]
    },
    {
     "data": {
      "text/html": [
       "<pre style=\"white-space:pre;overflow-x:auto;line-height:normal;font-family:Menlo,'DejaVu Sans Mono',consolas,'Courier New',monospace\"><span style=\"font-weight: bold\">Model: \"sequential_3\"</span>\n",
       "</pre>\n"
      ],
      "text/plain": [
       "\u001b[1mModel: \"sequential_3\"\u001b[0m\n"
      ]
     },
     "metadata": {},
     "output_type": "display_data"
    },
    {
     "data": {
      "text/html": [
       "<pre style=\"white-space:pre;overflow-x:auto;line-height:normal;font-family:Menlo,'DejaVu Sans Mono',consolas,'Courier New',monospace\">┏━━━━━━━━━━━━━━━━━━━━━━━━━━━━━━━━━┳━━━━━━━━━━━━━━━━━━━━━━━━┳━━━━━━━━━━━━━━━┓\n",
       "┃<span style=\"font-weight: bold\"> Layer (type)                    </span>┃<span style=\"font-weight: bold\"> Output Shape           </span>┃<span style=\"font-weight: bold\">       Param # </span>┃\n",
       "┡━━━━━━━━━━━━━━━━━━━━━━━━━━━━━━━━━╇━━━━━━━━━━━━━━━━━━━━━━━━╇━━━━━━━━━━━━━━━┩\n",
       "│ embedding_3 (<span style=\"color: #0087ff; text-decoration-color: #0087ff\">Embedding</span>)         │ (<span style=\"color: #00d7ff; text-decoration-color: #00d7ff\">None</span>, <span style=\"color: #00af00; text-decoration-color: #00af00\">100</span>, <span style=\"color: #00af00; text-decoration-color: #00af00\">128</span>)       │     <span style=\"color: #00af00; text-decoration-color: #00af00\">1,280,000</span> │\n",
       "├─────────────────────────────────┼────────────────────────┼───────────────┤\n",
       "│ simple_rnn_3 (<span style=\"color: #0087ff; text-decoration-color: #0087ff\">SimpleRNN</span>)        │ (<span style=\"color: #00d7ff; text-decoration-color: #00d7ff\">None</span>, <span style=\"color: #00af00; text-decoration-color: #00af00\">128</span>)            │        <span style=\"color: #00af00; text-decoration-color: #00af00\">32,896</span> │\n",
       "├─────────────────────────────────┼────────────────────────┼───────────────┤\n",
       "│ dense_3 (<span style=\"color: #0087ff; text-decoration-color: #0087ff\">Dense</span>)                 │ (<span style=\"color: #00d7ff; text-decoration-color: #00d7ff\">None</span>, <span style=\"color: #00af00; text-decoration-color: #00af00\">1</span>)              │           <span style=\"color: #00af00; text-decoration-color: #00af00\">129</span> │\n",
       "└─────────────────────────────────┴────────────────────────┴───────────────┘\n",
       "</pre>\n"
      ],
      "text/plain": [
       "┏━━━━━━━━━━━━━━━━━━━━━━━━━━━━━━━━━┳━━━━━━━━━━━━━━━━━━━━━━━━┳━━━━━━━━━━━━━━━┓\n",
       "┃\u001b[1m \u001b[0m\u001b[1mLayer (type)                   \u001b[0m\u001b[1m \u001b[0m┃\u001b[1m \u001b[0m\u001b[1mOutput Shape          \u001b[0m\u001b[1m \u001b[0m┃\u001b[1m \u001b[0m\u001b[1m      Param #\u001b[0m\u001b[1m \u001b[0m┃\n",
       "┡━━━━━━━━━━━━━━━━━━━━━━━━━━━━━━━━━╇━━━━━━━━━━━━━━━━━━━━━━━━╇━━━━━━━━━━━━━━━┩\n",
       "│ embedding_3 (\u001b[38;5;33mEmbedding\u001b[0m)         │ (\u001b[38;5;45mNone\u001b[0m, \u001b[38;5;34m100\u001b[0m, \u001b[38;5;34m128\u001b[0m)       │     \u001b[38;5;34m1,280,000\u001b[0m │\n",
       "├─────────────────────────────────┼────────────────────────┼───────────────┤\n",
       "│ simple_rnn_3 (\u001b[38;5;33mSimpleRNN\u001b[0m)        │ (\u001b[38;5;45mNone\u001b[0m, \u001b[38;5;34m128\u001b[0m)            │        \u001b[38;5;34m32,896\u001b[0m │\n",
       "├─────────────────────────────────┼────────────────────────┼───────────────┤\n",
       "│ dense_3 (\u001b[38;5;33mDense\u001b[0m)                 │ (\u001b[38;5;45mNone\u001b[0m, \u001b[38;5;34m1\u001b[0m)              │           \u001b[38;5;34m129\u001b[0m │\n",
       "└─────────────────────────────────┴────────────────────────┴───────────────┘\n"
      ]
     },
     "metadata": {},
     "output_type": "display_data"
    },
    {
     "data": {
      "text/html": [
       "<pre style=\"white-space:pre;overflow-x:auto;line-height:normal;font-family:Menlo,'DejaVu Sans Mono',consolas,'Courier New',monospace\"><span style=\"font-weight: bold\"> Total params: </span><span style=\"color: #00af00; text-decoration-color: #00af00\">1,313,027</span> (5.01 MB)\n",
       "</pre>\n"
      ],
      "text/plain": [
       "\u001b[1m Total params: \u001b[0m\u001b[38;5;34m1,313,027\u001b[0m (5.01 MB)\n"
      ]
     },
     "metadata": {},
     "output_type": "display_data"
    },
    {
     "data": {
      "text/html": [
       "<pre style=\"white-space:pre;overflow-x:auto;line-height:normal;font-family:Menlo,'DejaVu Sans Mono',consolas,'Courier New',monospace\"><span style=\"font-weight: bold\"> Trainable params: </span><span style=\"color: #00af00; text-decoration-color: #00af00\">1,313,025</span> (5.01 MB)\n",
       "</pre>\n"
      ],
      "text/plain": [
       "\u001b[1m Trainable params: \u001b[0m\u001b[38;5;34m1,313,025\u001b[0m (5.01 MB)\n"
      ]
     },
     "metadata": {},
     "output_type": "display_data"
    },
    {
     "data": {
      "text/html": [
       "<pre style=\"white-space:pre;overflow-x:auto;line-height:normal;font-family:Menlo,'DejaVu Sans Mono',consolas,'Courier New',monospace\"><span style=\"font-weight: bold\"> Non-trainable params: </span><span style=\"color: #00af00; text-decoration-color: #00af00\">0</span> (0.00 B)\n",
       "</pre>\n"
      ],
      "text/plain": [
       "\u001b[1m Non-trainable params: \u001b[0m\u001b[38;5;34m0\u001b[0m (0.00 B)\n"
      ]
     },
     "metadata": {},
     "output_type": "display_data"
    },
    {
     "data": {
      "text/html": [
       "<pre style=\"white-space:pre;overflow-x:auto;line-height:normal;font-family:Menlo,'DejaVu Sans Mono',consolas,'Courier New',monospace\"><span style=\"font-weight: bold\"> Optimizer params: </span><span style=\"color: #00af00; text-decoration-color: #00af00\">2</span> (12.00 B)\n",
       "</pre>\n"
      ],
      "text/plain": [
       "\u001b[1m Optimizer params: \u001b[0m\u001b[38;5;34m2\u001b[0m (12.00 B)\n"
      ]
     },
     "metadata": {},
     "output_type": "display_data"
    }
   ],
   "source": [
    "#Load the pre-trained model with relu activation function\n",
    "model = load_model('simplernn_imdb.h5')\n",
    "model.summary()"
   ]
  },
  {
   "cell_type": "code",
   "execution_count": 4,
   "id": "76acce86",
   "metadata": {},
   "outputs": [
    {
     "data": {
      "text/plain": [
       "[array([[-0.05793123,  0.3138104 , -0.01348973, ...,  0.261919  ,\n",
       "          0.13317125, -0.58563584],\n",
       "        [ 0.0550255 ,  0.01697817, -0.00817076, ..., -0.05452712,\n",
       "         -0.02834588, -0.0036077 ],\n",
       "        [-0.03295531, -0.02241   ,  0.00865051, ...,  0.00127405,\n",
       "          0.0296082 , -0.0449312 ],\n",
       "        ...,\n",
       "        [ 0.04014405,  0.03017969, -0.02354604, ..., -0.00875371,\n",
       "         -0.06077639, -0.06641354],\n",
       "        [-0.03198255,  0.03787786,  0.00300389, ...,  0.03582869,\n",
       "          0.06945366,  0.03954354],\n",
       "        [ 0.04051844,  0.08234418, -0.01943675, ..., -0.0746646 ,\n",
       "         -0.09570799, -0.00298324]], dtype=float32),\n",
       " array([[ 0.01437834, -0.02197167, -0.13448219, ..., -0.16636914,\n",
       "         -0.13740402,  0.0381321 ],\n",
       "        [-0.00382305, -0.09846498,  0.0598032 , ..., -0.09550325,\n",
       "          0.07760441,  0.00475667],\n",
       "        [-0.04025786, -0.11665891,  0.02143208, ...,  0.07729194,\n",
       "         -0.0358704 , -0.14049277],\n",
       "        ...,\n",
       "        [ 0.07374217, -0.05454024,  0.04869058, ...,  0.02083817,\n",
       "         -0.1365163 ,  0.01642121],\n",
       "        [ 0.07556098,  0.14025702,  0.06599521, ..., -0.11987452,\n",
       "         -0.06046892, -0.11929214],\n",
       "        [ 0.11912442, -0.00414385,  0.09622099, ...,  0.09437996,\n",
       "         -0.12122858,  0.06633278]], dtype=float32),\n",
       " array([[ 6.31973967e-02, -1.47313789e-01,  7.91336522e-02, ...,\n",
       "          7.71253109e-02, -6.70632780e-01,  9.26478878e-02],\n",
       "        [ 3.23922373e-02,  9.56370682e-02,  6.75979629e-02, ...,\n",
       "         -1.13765195e-01,  1.88788623e-01, -2.00392641e-02],\n",
       "        [-8.85440260e-02, -1.59258679e-01,  7.15472922e-02, ...,\n",
       "         -1.47308871e-01,  3.93480398e-02,  1.00168869e-01],\n",
       "        ...,\n",
       "        [-1.81958765e-01,  1.24236889e-01,  5.74009167e-03, ...,\n",
       "         -6.99637234e-02,  7.72587210e-02, -4.47470285e-02],\n",
       "        [-4.40037549e-02, -8.36725086e-02, -4.18291427e-02, ...,\n",
       "          1.36692252e-04,  5.12998164e-01, -7.39088058e-02],\n",
       "        [-1.10488606e-03, -2.19511595e-02,  1.09696724e-01, ...,\n",
       "          1.68962136e-01,  4.57296908e-01, -5.09268083e-02]], dtype=float32),\n",
       " array([ 4.89410595e-04, -2.98583396e-02,  2.42583267e-03, -2.03571506e-02,\n",
       "        -3.58079188e-02, -2.41315793e-02, -2.44634002e-02,  3.16590280e-03,\n",
       "         2.17885186e-04,  7.06411432e-03, -1.92640312e-02, -4.88771824e-03,\n",
       "         5.81259839e-03,  2.69323848e-02, -1.40386901e-03, -3.13283987e-02,\n",
       "        -3.99010442e-03, -7.95397907e-03, -1.99570693e-02,  3.71691608e-03,\n",
       "         6.71701087e-03,  8.88641737e-03, -2.99850758e-02,  7.35583249e-04,\n",
       "         5.02266223e-03,  1.03452941e-02,  8.28121603e-03, -2.11768337e-02,\n",
       "        -1.01393042e-02, -2.58186869e-02, -2.61260271e-02,  6.76863780e-03,\n",
       "        -5.43460250e-03,  2.02698726e-03, -1.80338863e-02, -2.62841694e-02,\n",
       "        -2.07902608e-03,  5.05075324e-03, -5.96751168e-04, -8.55799951e-03,\n",
       "         1.29199708e-02,  6.63246587e-03, -2.03643870e-02,  1.39274390e-03,\n",
       "        -2.24493016e-02, -3.88540491e-03, -2.62907036e-02, -3.80154103e-02,\n",
       "         4.81746206e-03, -8.56759399e-03, -1.92204379e-02,  8.64606071e-03,\n",
       "        -3.22914533e-02, -3.50446999e-02, -2.10184138e-03,  6.28612563e-03,\n",
       "        -1.15124974e-02,  3.74473049e-03,  3.20299133e-03, -2.38331091e-02,\n",
       "        -3.01591065e-02, -1.00491978e-02, -2.57388595e-02, -8.99725407e-03,\n",
       "        -2.56385524e-02, -2.25637425e-02,  1.58419876e-04,  7.14489818e-03,\n",
       "         9.23671015e-03, -2.01331358e-02,  6.91354135e-03, -1.78345703e-02,\n",
       "        -8.89219157e-03, -1.52100744e-02,  1.12041589e-02,  1.56678120e-03,\n",
       "         1.80110000e-02,  7.66093004e-03, -1.10741127e-02, -3.83273177e-02,\n",
       "        -2.82461941e-02, -2.12203283e-02, -6.23005861e-03,  1.43628353e-02,\n",
       "        -7.37249339e-03,  1.28081134e-02, -2.55438499e-02, -8.69125035e-03,\n",
       "         4.30046907e-03, -1.46483295e-02,  1.83746759e-02, -3.34776305e-02,\n",
       "        -6.47624070e-03, -2.64335386e-02, -1.89318713e-02,  6.10741973e-03,\n",
       "        -4.12569288e-03, -2.85823308e-02,  8.01955163e-03,  1.49894329e-02,\n",
       "        -1.56636704e-02, -1.97024401e-02, -2.58839000e-02, -8.79960973e-03,\n",
       "        -1.16849398e-04, -2.33097505e-02, -1.54567501e-02, -1.85098201e-02,\n",
       "        -3.61449048e-02,  2.42777150e-02,  1.82245206e-03,  6.29634503e-03,\n",
       "        -4.87490033e-05,  8.46146327e-03, -2.22887024e-02,  1.35662663e-03,\n",
       "        -1.77065302e-02,  1.55909616e-03,  5.16347354e-03, -7.18000717e-03,\n",
       "        -2.45360937e-03, -2.13333368e-02,  6.06636144e-02,  2.89199986e-02,\n",
       "        -1.21318679e-02, -2.73565650e-02, -9.12622828e-03, -9.04197164e-04],\n",
       "       dtype=float32),\n",
       " array([[-0.11856906],\n",
       "        [ 0.01746509],\n",
       "        [ 0.11655743],\n",
       "        [-0.16307685],\n",
       "        [-0.09400684],\n",
       "        [ 0.07321171],\n",
       "        [ 0.15774369],\n",
       "        [-0.03411255],\n",
       "        [ 0.22521701],\n",
       "        [ 0.12209744],\n",
       "        [ 0.1114927 ],\n",
       "        [-0.16739848],\n",
       "        [-0.05133254],\n",
       "        [-0.26014212],\n",
       "        [ 0.00953444],\n",
       "        [-0.1151997 ],\n",
       "        [-0.05823252],\n",
       "        [-0.14385544],\n",
       "        [ 0.05778756],\n",
       "        [ 0.0551246 ],\n",
       "        [-0.16748513],\n",
       "        [-0.07689095],\n",
       "        [-0.08776717],\n",
       "        [-0.15084368],\n",
       "        [ 0.0261618 ],\n",
       "        [ 0.11304515],\n",
       "        [-0.11416294],\n",
       "        [ 0.54630756],\n",
       "        [ 0.00700289],\n",
       "        [-0.05489536],\n",
       "        [-0.07921506],\n",
       "        [-0.05831188],\n",
       "        [-0.84592944],\n",
       "        [-0.00202231],\n",
       "        [ 0.21319515],\n",
       "        [-0.18192899],\n",
       "        [ 0.02561413],\n",
       "        [ 0.12311049],\n",
       "        [ 0.03692961],\n",
       "        [ 0.04854486],\n",
       "        [ 0.16305536],\n",
       "        [ 0.03146058],\n",
       "        [-0.00539516],\n",
       "        [-0.08660676],\n",
       "        [-0.0380515 ],\n",
       "        [ 0.12466301],\n",
       "        [-0.18881333],\n",
       "        [ 0.07688661],\n",
       "        [ 0.17948642],\n",
       "        [-0.193048  ],\n",
       "        [ 0.0815189 ],\n",
       "        [-0.20071532],\n",
       "        [ 0.2713721 ],\n",
       "        [-0.01299642],\n",
       "        [-0.12786144],\n",
       "        [ 0.21058443],\n",
       "        [-0.1489502 ],\n",
       "        [-0.14334553],\n",
       "        [-0.12721895],\n",
       "        [ 0.05861031],\n",
       "        [-0.1293426 ],\n",
       "        [ 0.08951961],\n",
       "        [ 0.1196559 ],\n",
       "        [ 0.11297863],\n",
       "        [-0.15236823],\n",
       "        [-0.06343448],\n",
       "        [-0.17796871],\n",
       "        [-0.04979567],\n",
       "        [ 0.05791379],\n",
       "        [ 0.06247563],\n",
       "        [ 0.11278674],\n",
       "        [ 0.08919214],\n",
       "        [-0.0631224 ],\n",
       "        [ 0.5047579 ],\n",
       "        [-0.03345463],\n",
       "        [-0.1571303 ],\n",
       "        [-0.13620164],\n",
       "        [ 0.01100328],\n",
       "        [-0.15595008],\n",
       "        [-0.10509414],\n",
       "        [ 0.09579089],\n",
       "        [-0.10790078],\n",
       "        [ 0.08318616],\n",
       "        [ 0.07223055],\n",
       "        [ 0.34656596],\n",
       "        [-0.1315917 ],\n",
       "        [-0.19727276],\n",
       "        [ 0.14750847],\n",
       "        [ 0.16601092],\n",
       "        [-0.21042699],\n",
       "        [ 0.04027485],\n",
       "        [ 0.07749578],\n",
       "        [ 0.06752087],\n",
       "        [-0.13650869],\n",
       "        [ 0.01657875],\n",
       "        [ 0.08005304],\n",
       "        [ 0.11820169],\n",
       "        [-0.03481814],\n",
       "        [-0.18860684],\n",
       "        [ 0.4479559 ],\n",
       "        [-0.07968915],\n",
       "        [-0.2129787 ],\n",
       "        [ 0.19856928],\n",
       "        [-0.129256  ],\n",
       "        [-0.09679254],\n",
       "        [-0.2024691 ],\n",
       "        [-0.00762726],\n",
       "        [-0.193312  ],\n",
       "        [-0.07169712],\n",
       "        [-0.11578776],\n",
       "        [-0.07272399],\n",
       "        [-0.15472586],\n",
       "        [-0.03889806],\n",
       "        [ 0.1483008 ],\n",
       "        [-0.01860397],\n",
       "        [ 0.19347279],\n",
       "        [ 0.02418315],\n",
       "        [-0.08757273],\n",
       "        [-0.1490163 ],\n",
       "        [ 0.00213206],\n",
       "        [-0.08520816],\n",
       "        [-0.11523847],\n",
       "        [-0.29850402],\n",
       "        [ 0.05066234],\n",
       "        [-0.09852745],\n",
       "        [-0.01780756],\n",
       "        [ 0.72178763],\n",
       "        [-0.10064855]], dtype=float32),\n",
       " array([0.23666973], dtype=float32)]"
      ]
     },
     "execution_count": 4,
     "metadata": {},
     "output_type": "execute_result"
    }
   ],
   "source": [
    "model.get_weights()"
   ]
  },
  {
   "cell_type": "code",
   "execution_count": 5,
   "id": "86780f95",
   "metadata": {},
   "outputs": [],
   "source": [
    "#Step 2: Helper functions\n",
    "# Function to decode reviews\n",
    "def decode_review(encoded_review):\n",
    "    return ' '.join([reverse_word_index.get(i - 3, '?') for i in encoded_review])\n",
    "# Function to preprocess input text\n",
    "def preprocess_text(text):\n",
    "    words = text.lower().split()\n",
    "    encoded = [word_index.get(word, 2) + 3 for word in words] \n",
    "    padded = sequence.pad_sequences([encoded], maxlen=500)\n",
    "    return padded"
   ]
  },
  {
   "cell_type": "code",
   "execution_count": 6,
   "id": "6d2139c6",
   "metadata": {},
   "outputs": [],
   "source": [
    "# Prediction function\n",
    "def predict_sentiment(text):\n",
    "    processed_text = preprocess_text(text)\n",
    "    prediction = model.predict(processed_text)\n",
    "    sentiment = \"Positive\" if prediction[0][0] > 0.5 else \"Negative\"\n",
    "    return sentiment, prediction[0][0]"
   ]
  },
  {
   "cell_type": "code",
   "execution_count": 7,
   "id": "2e85e593",
   "metadata": {},
   "outputs": [
    {
     "name": "stdout",
     "output_type": "stream",
     "text": [
      "\u001b[1m1/1\u001b[0m \u001b[32m━━━━━━━━━━━━━━━━━━━━\u001b[0m\u001b[37m\u001b[0m \u001b[1m1s\u001b[0m 778ms/step\n",
      "Review: The movie was fantastic! I really loved it and would watch it again.\n",
      "Predicted Sentiment: Negative (Score: 0.0224)\n"
     ]
    }
   ],
   "source": [
    "#Example review for prediction\n",
    "example_review = \"The movie was fantastic! I really loved it and would watch it again.\"\n",
    "sentiment , score=predict_sentiment(example_review)\n",
    "print(f\"Review: {example_review}\\nPredicted Sentiment: {sentiment} (Score: {score:.4f})\")\n"
   ]
  },
  {
   "cell_type": "code",
   "execution_count": null,
   "id": "9fc7eb14",
   "metadata": {},
   "outputs": [],
   "source": []
  },
  {
   "cell_type": "markdown",
   "id": "1a089882",
   "metadata": {},
   "source": [
    "# Make the streamlit app if you want to"
   ]
  },
  {
   "cell_type": "markdown",
   "id": "8381afef",
   "metadata": {},
   "source": []
  }
 ],
 "metadata": {
  "kernelspec": {
   "display_name": "base",
   "language": "python",
   "name": "python3"
  },
  "language_info": {
   "codemirror_mode": {
    "name": "ipython",
    "version": 3
   },
   "file_extension": ".py",
   "mimetype": "text/x-python",
   "name": "python",
   "nbconvert_exporter": "python",
   "pygments_lexer": "ipython3",
   "version": "3.12.7"
  }
 },
 "nbformat": 4,
 "nbformat_minor": 5
}
